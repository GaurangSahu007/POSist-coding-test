{
 "cells": [
  {
   "cell_type": "code",
   "execution_count": 40,
   "metadata": {},
   "outputs": [],
   "source": [
    "class node:\n",
    "    def __init__(self,data):\n",
    "        self.left = None\n",
    "        self.right  = None\n",
    "        self.data = data\n",
    "#Insertion of the element  in the tree\n",
    "    def insertnode(self,data):\n",
    "        if self.data:\n",
    "            if self.left is None and self.right is None:\n",
    "                self.left = node(data)\n",
    "            elif self.right is None:\n",
    "                self.right = node(data)\n",
    "            \n",
    "        else:\n",
    "            self.data = data\n",
    "#Printing of tree\n",
    "    def PrintTree(self):\n",
    "        if self.left:\n",
    "            self.left.PrintTree()\n",
    "        print( self.data),\n",
    "        if self.right:\n",
    "            self.right.PrintTree()\n",
    "        "
   ]
  },
  {
   "cell_type": "code",
   "execution_count": 41,
   "metadata": {},
   "outputs": [],
   "source": [
    "class information:\n",
    "    def __init__(self,owner_id,value,name,Node):\n",
    "        self.id = owner_id\n",
    "        self.value = value\n",
    "        self.name = name\n",
    "        self.Node = Node\n",
    "    def getid(self):\n",
    "        return self.id\n",
    "    def getvalue(self):\n",
    "        return self.value\n",
    "    def getname(self):\n",
    "        return self.name\n",
    "    def printinformation(self):\n",
    "        print('Owner id= ', self.id)\n",
    "        print('value= ', self.value)\n",
    "        print('Owner name= ', self.name)\n",
    "#         print('Node = ', self.Node.data)"
   ]
  },
  {
   "cell_type": "code",
   "execution_count": 42,
   "metadata": {},
   "outputs": [
    {
     "name": "stdout",
     "output_type": "stream",
     "text": [
      "Nodes are: \n",
      "17\n",
      "30\n",
      "10\n",
      "None \n",
      "\n",
      "Owner id=  B\n",
      "value=  10.02\n",
      "Owner name=  amit\n",
      "None \n",
      "\n",
      "INFORMATION FOR THE NODE 2:\n",
      "Owner id=  C\n",
      "value=  1.23\n",
      "Owner name=  gaurang\n",
      "None\n"
     ]
    }
   ],
   "source": [
    "#creation of the genesis node\n",
    "genesis_node = node(30)\n",
    "#creation of the child nodes\n",
    "node1 = genesis_node.insertnode(17)\n",
    "child1 = information('B',10.02,\"amit\",node1)\n",
    "\n",
    "node2 = genesis_node.insertnode(10)\n",
    "child2 = information('C',1.23,'gaurang',node2)\n",
    "print('Nodes are: ')\n",
    "print(genesis_node.PrintTree(),\"\\n\")\n",
    "print(child1.printinformation(),\"\\n\")\n",
    "print(\"INFORMATION FOR THE NODE 2:\")\n",
    "print(child2.printinformation())"
   ]
  },
  {
   "cell_type": "code",
   "execution_count": null,
   "metadata": {},
   "outputs": [],
   "source": []
  }
 ],
 "metadata": {
  "kernelspec": {
   "display_name": "Python 3",
   "language": "python",
   "name": "python3"
  },
  "language_info": {
   "codemirror_mode": {
    "name": "ipython",
    "version": 3
   },
   "file_extension": ".py",
   "mimetype": "text/x-python",
   "name": "python",
   "nbconvert_exporter": "python",
   "pygments_lexer": "ipython3",
   "version": "3.6.5"
  }
 },
 "nbformat": 4,
 "nbformat_minor": 2
}
